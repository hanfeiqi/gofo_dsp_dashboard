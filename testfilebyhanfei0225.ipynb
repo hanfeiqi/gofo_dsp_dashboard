{
 "cells": [
  {
   "cell_type": "code",
   "execution_count": 33,
   "metadata": {},
   "outputs": [],
   "source": [
    "import json\n",
    "import os\n",
    "import folium\n",
    "import pandas as pd\n",
    "import webbrowser\n",
    "import matplotlib.pyplot as plt\n",
    "import base64\n",
    "import random\n",
    "import chardet"
   ]
  },
  {
   "cell_type": "code",
   "execution_count": 34,
   "metadata": {},
   "outputs": [
    {
     "name": "stdout",
     "output_type": "stream",
     "text": [
      "✅ 检测到的文件编码：UTF-16\n"
     ]
    }
   ],
   "source": [
    "# ✅ 先检测文件编码\n",
    "with open(\"/Users/qihanfei/Desktop/gofodashboard/TESTLAX225.csv\", \"rb\") as f:\n",
    "    result = chardet.detect(f.read(100000))  # 读取部分内容进行检测\n",
    "    detected_encoding = result[\"encoding\"]\n",
    "    print(f\"✅ 检测到的文件编码：{detected_encoding}\")\n",
    "\n",
    "# ✅ 使用检测到的编码读取 CSV\n",
    "shipment_df = pd.read_csv(\"/Users/qihanfei/Desktop/gofodashboard/TESTLAX2_23.csv\", encoding=detected_encoding, sep=\"\\t\")\n"
   ]
  },
  {
   "cell_type": "code",
   "execution_count": 43,
   "metadata": {},
   "outputs": [
    {
     "name": "stdout",
     "output_type": "stream",
     "text": [
      "✅ 检测到的文件编码：UTF-16\n",
      "✅ 站点数据（合计行）:\n",
      "        站点  领件票数  Final妥投量  Final妥投率\n",
      "0  DEN-CBL   862       828  0.960557\n",
      "1  DEN-PML   364       356  0.978022\n",
      "2  DEN-WDL  1138      1130  0.992970\n",
      "3  DEN-XAE  2614      2424  0.927314\n",
      "4  DEN-YON   507       498  0.982249\n",
      "✅ 处理后 `site_data` 结构:\n",
      "{'DEN-CBL': {'领件票数': 862, 'Final妥投量': 828, 'Final妥投率': 0.9605568445475638}, 'DEN-PML': {'领件票数': 364, 'Final妥投量': 356, 'Final妥投率': 0.978021978021978}, 'DEN-WDL': {'领件票数': 1138, 'Final妥投量': 1130, 'Final妥投率': 0.9929701230228472}, 'DEN-XAE': {'领件票数': 2614, 'Final妥投量': 2424, 'Final妥投率': 0.9273144605967866}, 'DEN-YON': {'领件票数': 507, 'Final妥投量': 498, 'Final妥投率': 0.9822485207100592}, 'LAS-FTN': {'领件票数': 425, 'Final妥投量': 413, 'Final妥投率': 0.971764705882353}, 'LAS-JEE': {'领件票数': 669, 'Final妥投量': 650, 'Final妥投率': 0.9715994020926756}, 'LAS-LLE': {'领件票数': 538, 'Final妥投量': 534, 'Final妥投率': 0.9925650557620818}, 'LAV-CNS': {'领件票数': 332, 'Final妥投量': 326, 'Final妥投率': 0.9819277108433735}, 'LAV-DMIS': {'领件票数': 585, 'Final妥投量': 576, 'Final妥投率': 0.9846153846153847}, 'LAV-DUF': {'领件票数': 1081, 'Final妥投量': 1070, 'Final妥投率': 0.9898242368177613}, 'LAV-FUS': {'领件票数': 1357, 'Final妥投量': 1313, 'Final妥投率': 0.9675755342667649}, 'LAV-HHU': {'领件票数': 863, 'Final妥投量': 854, 'Final妥投率': 0.9895712630359212}, 'LAV-Jiugui': {'领件票数': 880, 'Final妥投量': 872, 'Final妥投率': 0.990909090909091}, 'LAV-SOS': {'领件票数': 419, 'Final妥投量': 418, 'Final妥投率': 0.9976133651551312}, 'LAV-UNS': {'领件票数': 177, 'Final妥投量': 171, 'Final妥投率': 0.9661016949152542}, 'LAV-YJN': {'领件票数': 346, 'Final妥投量': 345, 'Final妥投率': 0.9971098265895953}, 'ONT-CNS': {'领件票数': 163, 'Final妥投量': 162, 'Final妥投率': 0.9938650306748467}, 'ONT-DUF': {'领件票数': 163, 'Final妥投量': 162, 'Final妥投率': 0.9938650306748467}, 'ONT-J&S': {'领件票数': 1978, 'Final妥投量': 1952, 'Final妥投率': 0.9868554095045501}, 'ONT-SOS': {'领件票数': 77, 'Final妥投量': 77, 'Final妥投率': 1.0}, 'ONT-UNS': {'领件票数': 331, 'Final妥投量': 326, 'Final妥投率': 0.9848942598187311}, 'PDX-AIG': {'领件票数': 29, 'Final妥投量': 29, 'Final妥投率': 1.0}, 'PDX-H&P': {'领件票数': 321, 'Final妥投量': 296, 'Final妥投率': 0.9221183800623053}, 'PDX-XAS': {'领件票数': 400, 'Final妥投量': 398, 'Final妥投率': 0.995}, 'PDX-ZEP': {'领件票数': 120, 'Final妥投量': 120, 'Final妥投率': 1.0}, 'PHX-BRT': {'领件票数': 202, 'Final妥投量': 202, 'Final妥投率': 1.0}, 'PHX-DEL': {'领件票数': 374, 'Final妥投量': 346, 'Final妥投率': 0.9251336898395722}, 'PHX-ECS': {'领件票数': 889, 'Final妥投量': 877, 'Final妥投率': 0.9865016872890888}, 'PHX-GAL': {'领件票数': 746, 'Final妥投量': 727, 'Final妥投率': 0.9745308310991957}, 'PHX-GFI': {'领件票数': 288, 'Final妥投量': 285, 'Final妥投率': 0.9895833333333334}, 'PHX-RWV': {'领件票数': 529, 'Final妥投量': 524, 'Final妥投率': 0.9905482041587902}, 'PHX-YXY': {'领件票数': 717, 'Final妥投量': 697, 'Final妥投率': 0.9721059972105998}, 'SAN-MEL': {'领件票数': 809, 'Final妥投量': 758, 'Final妥投率': 0.9369592088998764}, 'SAN-SDG': {'领件票数': 702, 'Final妥投量': 698, 'Final妥投率': 0.9943019943019943}, 'SAN-SHA': {'领件票数': 1500, 'Final妥投量': 1494, 'Final妥投率': 0.996}, 'SAN-UNS': {'领件票数': 735, 'Final妥投量': 731, 'Final妥投率': 0.9945578231292517}, 'SAN-XAE': {'领件票数': 1543, 'Final妥投量': 1514, 'Final妥投率': 0.9812054439403759}, 'SEA-INL': {'领件票数': 27, 'Final妥投量': 27, 'Final妥投率': 1.0}, 'SEA-MIL': {'领件票数': 1, 'Final妥投量': 1, 'Final妥投率': 1.0}, 'SEA-ZEP': {'领件票数': 1, 'Final妥投量': 1, 'Final妥投率': 1.0}, 'SFO-DAE': {'领件票数': 2015, 'Final妥投量': 1941, 'Final妥投率': 0.9632754342431762}, 'SFO-HFE': {'领件票数': 1153, 'Final妥投量': 1146, 'Final妥投率': 0.9939288811795317}, 'SFO-UNS': {'领件票数': 1327, 'Final妥投量': 1321, 'Final妥投率': 0.9954785229841748}, 'SFO-WZS': {'领件票数': 1015, 'Final妥投量': 938, 'Final妥投率': 0.9241379310344827}, 'SFO-ZEP': {'领件票数': 1631, 'Final妥投量': 1626, 'Final妥投率': 0.996934396076027}, 'SLC-CBL': {'领件票数': 1182, 'Final妥投量': 1152, 'Final妥投率': 0.9746192893401016}, 'SLC-CJJ': {'领件票数': 1481, 'Final妥投量': 1476, 'Final妥投率': 0.9966239027683997}, 'SLC-PML': {'领件票数': 970, 'Final妥投量': 956, 'Final妥投率': 0.9855670103092784}, 'SMF-DAE': {'领件票数': 982, 'Final妥投量': 979, 'Final妥投率': 0.9969450101832994}, 'SMF-HW': {'领件票数': 575, 'Final妥投量': 572, 'Final妥投率': 0.9947826086956522}, 'SMF-UNS': {'领件票数': 617, 'Final妥投量': 615, 'Final妥投率': 0.9967585089141004}, 'VTC-CRU': {'领件票数': 944, 'Final妥投量': 929, 'Final妥投率': 0.9841101694915254}, '合计': {'领件票数': 158296, 'Final妥投量': 154852, 'Final妥投率': 0.9782432910496791}}\n"
     ]
    }
   ],
   "source": [
    "import pandas as pd\n",
    "import chardet\n",
    "\n",
    "# ✅ 1. 自动检测 CSV 编码\n",
    "csv_path = \"/Users/qihanfei/Desktop/gofodashboard/TESTLAX225.csv\"\n",
    "\n",
    "with open(csv_path, \"rb\") as f:\n",
    "    result = chardet.detect(f.read(100000))  # 读取部分内容进行检测\n",
    "    detected_encoding = result[\"encoding\"]\n",
    "    print(f\"✅ 检测到的文件编码：{detected_encoding}\")\n",
    "\n",
    "# ✅ 2. 读取 CSV（使用 `encoding_errors=\"replace\"` 处理编码错误）\n",
    "shipment_df = pd.read_csv(csv_path, encoding=detected_encoding, encoding_errors=\"replace\", sep=\"\\t\")\n",
    "\n",
    "# ✅ 3. 统一列名，确保 `对象` → `zipcode`\n",
    "shipment_df.rename(columns={\"对象\": \"zipcode\"}, inplace=True)\n",
    "\n",
    "# ✅ 4. 处理 ZIP Code（去除 NaN & \"合计\"）\n",
    "shipment_df[\"zipcode\"] = shipment_df[\"zipcode\"].astype(str).str.strip()\n",
    "\n",
    "# ✅ 5. 提取 **站点合计数据**（`zipcode=\"合计\"` 的行）\n",
    "site_summary = shipment_df[shipment_df[\"zipcode\"] == \"合计\"].copy()\n",
    "\n",
    "# ✅ 6. 确保 `site_summary` 只有一行\n",
    "site_summary = site_summary.groupby(\"站点\", as_index=False).agg(\n",
    "    {\"领件票数\": \"sum\", \"Final妥投量\": \"sum\"}  # **合计每个站点的汇总数据**\n",
    ")\n",
    "\n",
    "# ✅ 7. 计算 `Final妥投率`（用合计行计算）\n",
    "site_summary[\"Final妥投率\"] = site_summary[\"Final妥投量\"] / site_summary[\"领件票数\"]\n",
    "site_summary.fillna(0, inplace=True)\n",
    "\n",
    "# ✅ 8. 站点数据映射（**确保唯一索引**）\n",
    "site_data = site_summary.set_index(\"站点\")[[\"领件票数\", \"Final妥投量\", \"Final妥投率\"]].to_dict(orient=\"index\")\n",
    "\n",
    "# ✅ 9. 处理完成，打印结果\n",
    "print(\"✅ 站点数据（合计行）:\")\n",
    "print(site_summary.head())\n",
    "\n",
    "print(\"✅ 处理后 `site_data` 结构:\")\n",
    "print(site_data)\n"
   ]
  },
  {
   "cell_type": "code",
   "execution_count": 44,
   "metadata": {},
   "outputs": [
    {
     "name": "stdout",
     "output_type": "stream",
     "text": [
      "✅ 使用字体: Arial Unicode MS\n"
     ]
    }
   ],
   "source": [
    "import matplotlib.pyplot as plt\n",
    "import matplotlib\n",
    "from matplotlib import font_manager\n",
    "\n",
    "# ✅ 自动查找可用的中文字体\n",
    "def get_best_chinese_font():\n",
    "    fonts = [\"Microsoft YaHei\", \"SimHei\", \"WenQuanYi Zen Hei\", \"Arial Unicode MS\"]\n",
    "    for font in fonts:\n",
    "        if font in [f.name for f in font_manager.fontManager.ttflist]:\n",
    "            print(f\"✅ 使用字体: {font}\")\n",
    "            return font\n",
    "    print(\"⚠️ 未找到可用的中文字体，可能会显示乱码！\")\n",
    "    return \"sans-serif\"  # 兜底方案\n",
    "\n",
    "# ✅ 设置 Matplotlib 中文字体\n",
    "best_font = get_best_chinese_font()\n",
    "matplotlib.rcParams[\"font.family\"] = best_font\n",
    "matplotlib.rcParams[\"axes.unicode_minus\"] = False  # 处理负号问题"
   ]
  },
  {
   "cell_type": "code",
   "execution_count": 45,
   "metadata": {},
   "outputs": [
    {
     "name": "stdout",
     "output_type": "stream",
     "text": [
      "✅ 站点饼图生成完成！\n"
     ]
    }
   ],
   "source": [
    "import matplotlib.pyplot as plt\n",
    "import base64\n",
    "import os\n",
    "\n",
    "# ✅ 确保站点饼图存储路径\n",
    "pie_chart_paths = {}\n",
    "output_dir = \"site_pie_charts\"\n",
    "os.makedirs(output_dir, exist_ok=True)\n",
    "\n",
    "# ✅ 生成站点饼图\n",
    "for _, row in site_summary.iterrows():\n",
    "    site = row[\"站点\"]\n",
    "    delivered = row[\"Final妥投量\"]\n",
    "    not_delivered = row[\"领件票数\"] - delivered  # 计算未妥投量\n",
    "\n",
    "    if delivered < 0 or not_delivered < 0:  # 避免负值\n",
    "        continue\n",
    "\n",
    "    labels = [\"Final妥投量\", \"未妥投量\"]\n",
    "    sizes = [delivered, not_delivered]\n",
    "    colors = [\"green\", \"red\"]\n",
    "\n",
    "    # 🎨 创建饼图\n",
    "    plt.figure(figsize=(2, 2))\n",
    "    plt.pie(sizes, labels=labels, autopct=\"%1.1f%%\", colors=colors, startangle=140)\n",
    "    plt.axis(\"equal\")\n",
    "\n",
    "    # 📁 保存为图片\n",
    "    img_path = os.path.join(output_dir, f\"pie_chart_{site}.png\")\n",
    "    plt.savefig(img_path, bbox_inches=\"tight\", dpi=100)\n",
    "    plt.close()\n",
    "\n",
    "    # 🔄 转换为 base64 编码的 HTML 图片\n",
    "    with open(img_path, \"rb\") as img_file:\n",
    "        base64_str = base64.b64encode(img_file.read()).decode(\"utf-8\")\n",
    "        pie_chart_paths[site] = f'<img src=\"data:image/png;base64,{base64_str}\" width=\"150px\"/>'\n",
    "\n",
    "print(\"✅ 站点饼图生成完成！\")\n"
   ]
  },
  {
   "cell_type": "code",
   "execution_count": 46,
   "metadata": {},
   "outputs": [
    {
     "name": "stdout",
     "output_type": "stream",
     "text": [
      "✅ 运单涉及 1141 个唯一 ZIP Code\n",
      "✅ ZIP Code 边界文件加载成功！\n"
     ]
    }
   ],
   "source": [
    "# ✅ 6. 提取运单涉及的 ZIP Code\n",
    "shipment_zipcodes = shipment_df[\"zipcode\"].unique().tolist()\n",
    "print(f\"✅ 运单涉及 {len(shipment_zipcodes)} 个唯一 ZIP Code\")\n",
    "\n",
    "# ✅ 7. 加载 ZIP Code GeoJSON 文件\n",
    "geojson_path = \"/Users/qihanfei/Desktop/gofodashboard/merged_zip_codes.geojson\"  # 修改为你的文件路径\n",
    "\n",
    "try:\n",
    "    with open(geojson_path, \"r\", encoding=\"utf-8\") as f:\n",
    "        zipcode_geojson = json.load(f)\n",
    "    print(\"✅ ZIP Code 边界文件加载成功！\")\n",
    "except FileNotFoundError:\n",
    "    print(f\"❌ 文件 {geojson_path} 不存在！\")\n",
    "    exit()\n",
    "\n"
   ]
  },
  {
   "cell_type": "code",
   "execution_count": 48,
   "metadata": {},
   "outputs": [
    {
     "name": "stdout",
     "output_type": "stream",
     "text": [
      "📊 site_summary 数据预览:\n",
      "        站点  领件票数  Final妥投量  Final妥投率\n",
      "0  DEN-CBL   862       828  0.960557\n",
      "1  DEN-PML   364       356  0.978022\n",
      "2  DEN-WDL  1138      1130  0.992970\n",
      "3  DEN-XAE  2614      2424  0.927314\n",
      "4  DEN-YON   507       498  0.982249\n",
      "✅ 过滤后，地图上仅显示 1128 个 ZIP Code\n",
      "📍 生成地图（按站点颜色标记）：shipment_site_map.html\n"
     ]
    }
   ],
   "source": [
    "import json\n",
    "import folium\n",
    "import networkx as nx\n",
    "import pandas as pd\n",
    "\n",
    "# ✅ 定义有限颜色集（减少颜色数量但保证相邻不同）\n",
    "color_palette = [\"blue\", \"purple\", \"orange\", \"brown\", \"pink\", \"cyan\", \"gray\"]\n",
    "\n",
    "# ✅ 站点相邻关系（假设 ZIP Code 近似站点相邻）\n",
    "site_neighbors = {}  # 记录站点邻居\n",
    "\n",
    "for site in shipment_df[\"站点\"].unique():\n",
    "    site_neighbors[site] = set(shipment_df[shipment_df[\"站点\"] == site][\"zipcode\"])\n",
    "\n",
    "# ✅ 计算站点着色（相邻站点不同色）\n",
    "G = nx.Graph()\n",
    "for site, zipcodes in site_neighbors.items():\n",
    "    G.add_node(site)\n",
    "    for other_site, other_zipcodes in site_neighbors.items():\n",
    "        if site != other_site and not zipcodes.isdisjoint(other_zipcodes):\n",
    "            G.add_edge(site, other_site)\n",
    "\n",
    "# ✅ 分配颜色\n",
    "site_color_map = nx.coloring.greedy_color(G, strategy=\"largest_first\")\n",
    "site_colors = {site: color_palette[color % len(color_palette)] for site, color in site_color_map.items()}\n",
    "\n",
    "# ✅ **确保 `site_summary` 结构正确**\n",
    "print(\"📊 site_summary 数据预览:\")\n",
    "print(site_summary.head())\n",
    "\n",
    "# ✅ 仅保留运单中涉及的 ZIP Code，并添加统计数据\n",
    "filtered_features = []\n",
    "\n",
    "for feature in zipcode_geojson[\"features\"]:\n",
    "    zip_code = str(feature[\"properties\"].get(\"ZCTA5CE10\", \"\")).zfill(5)\n",
    "\n",
    "    if zip_code in shipment_zipcodes:\n",
    "        site_info = shipment_df[shipment_df[\"zipcode\"] == zip_code].iloc[0]  # 获取站点信息\n",
    "        site_name = site_info[\"站点\"]\n",
    "\n",
    "        # **检查站点数据是否存在**\n",
    "        if site_name not in site_summary[\"站点\"].values:\n",
    "            print(f\"⚠️ 站点 {site_name} 在 site_summary 中不存在，跳过！\")\n",
    "            continue\n",
    "\n",
    "        site_data = site_summary[site_summary[\"站点\"] == site_name].iloc[0]\n",
    "\n",
    "        # **修正 `total_tickets` 为 `领件票数`**\n",
    "        total_tickets = int(site_data[\"领件票数\"])\n",
    "        total_delivered = int(site_data[\"Final妥投量\"])\n",
    "        final_rate = float(site_data[\"Final妥投率\"])\n",
    "\n",
    "        # **三色分类**\n",
    "        if final_rate < 0.95:\n",
    "            color = \"red\"\n",
    "            border_color = \"darkred\"\n",
    "            border_weight = 3.5\n",
    "            opacity = 0.6\n",
    "        elif final_rate >= 0.99:\n",
    "            color = \"green\"\n",
    "            border_color = \"darkgreen\"\n",
    "            border_weight = 2\n",
    "            opacity = 0.5\n",
    "        else:\n",
    "            color = site_colors.get(site_name, \"blue\")\n",
    "            border_color = \"black\"\n",
    "            border_weight = 0.5\n",
    "            opacity = 0.4\n",
    "\n",
    "        # 更新 GeoJSON 信息\n",
    "        feature[\"properties\"].update({\n",
    "            \"站点\": site_name,\n",
    "            \"总领件票数\": total_tickets,\n",
    "            \"总妥投量\": total_delivered,\n",
    "            \"合计Final妥投率\": f\"{final_rate:.2%}\",\n",
    "            \"PieChart\": pie_chart_paths.get(site_name, \"\"),\n",
    "            \"fillColor\": color,\n",
    "            \"color\": border_color,\n",
    "            \"weight\": border_weight,\n",
    "            \"fillOpacity\": opacity\n",
    "        })\n",
    "        filtered_features.append(feature)\n",
    "\n",
    "filtered_geojson = {\n",
    "    \"type\": \"FeatureCollection\",\n",
    "    \"features\": filtered_features\n",
    "}\n",
    "\n",
    "print(f\"✅ 过滤后，地图上仅显示 {len(filtered_features)} 个 ZIP Code\")\n",
    "\n",
    "# ✅ 创建地图\n",
    "us_map = folium.Map(location=[39.8283, -98.5795], zoom_start=5, tiles=\"cartodbpositron\")\n",
    "\n",
    "# ✅ 颜色映射（增加边界加深逻辑）\n",
    "def zip_code_style(feature):\n",
    "    \"\"\"根据站点 Final妥投率 设定颜色\"\"\"\n",
    "    return {\n",
    "        \"fillColor\": feature[\"properties\"][\"fillColor\"],\n",
    "        \"color\": feature[\"properties\"][\"color\"],\n",
    "        \"weight\": feature[\"properties\"][\"weight\"],\n",
    "        \"fillOpacity\": feature[\"properties\"][\"fillOpacity\"]\n",
    "    }\n",
    "\n",
    "# ✅ 添加 ZIP Code 区域\n",
    "folium.GeoJson(\n",
    "    filtered_geojson,\n",
    "    name=\"Filtered ZIP Code Boundaries\",\n",
    "    style_function=zip_code_style,\n",
    "    tooltip=folium.GeoJsonTooltip(\n",
    "        fields=[\"ZCTA5CE10\", \"站点\", \"总领件票数\", \"总妥投量\", \"合计Final妥投率\", \"PieChart\"],\n",
    "        aliases=[\"ZIP Code:\", \"站点:\", \"总领件票数:\", \"总妥投量:\", \"合计Final妥投率:\", \"妥投率饼图:\"],\n",
    "        localize=True\n",
    "    )\n",
    ").add_to(us_map)\n",
    "\n",
    "# ✅ 保存地图\n",
    "output_file = \"shipment_site_map.html\"\n",
    "us_map.save(output_file)\n",
    "\n",
    "print(f\"📍 生成地图（按站点颜色标记）：{output_file}\")\n"
   ]
  },
  {
   "cell_type": "code",
   "execution_count": 49,
   "metadata": {},
   "outputs": [
    {
     "data": {
      "text/plain": [
       "<branca.element.Element at 0x354d0b9d0>"
      ]
     },
     "execution_count": 49,
     "metadata": {},
     "output_type": "execute_result"
    }
   ],
   "source": [
    "# 提取 Final妥投率 < 95% 的站点，并复制一份用于显示\n",
    "summary_df = site_summary[site_summary[\"Final妥投率\"] < 0.95].copy()\n",
    "\n",
    "# 将 Final妥投率转换为百分比格式\n",
    "summary_df[\"Final妥投率\"] = summary_df[\"Final妥投率\"].apply(lambda x: f\"{x:.2%}\")\n",
    "\n",
    "# 按妥投率升序排序\n",
    "summary_df = summary_df.sort_values(by=\"Final妥投率\", ascending=True)\n",
    "\n",
    "# 生成 HTML 表格\n",
    "summary_html = summary_df.to_html(classes=\"table table-striped\", border=0)\n",
    "\n",
    "summary_file = \"summary.html\"\n",
    "with open(summary_file, \"w\", encoding=\"utf-8\") as f:\n",
    "    f.write(f\"<h2>📢 妥投率 < 95% 的站点（按妥投率排序）</h2>{summary_html}\")\n",
    "\n",
    "button_html = f\"\"\"\n",
    "<div style=\"\n",
    "    position: fixed;\n",
    "    top: 10px; left: 10px;\n",
    "    z-index: 1000;\n",
    "    background-color: white;\n",
    "    padding: 10px;\n",
    "    border-radius: 5px;\n",
    "    box-shadow: 2px 2px 5px rgba(0,0,0,0.3);\n",
    "\">\n",
    "    <a href=\"{summary_file}\" target=\"_blank\" style=\"font-size:14px; color:red; text-decoration:none;\">\n",
    "        📊 查看妥投率不达标站点（按妥投率排序）\n",
    "    </a>\n",
    "</div>\n",
    "\"\"\"\n",
    "\n",
    "us_map.get_root().html.add_child(folium.Element(button_html))\n"
   ]
  },
  {
   "cell_type": "code",
   "execution_count": 50,
   "metadata": {},
   "outputs": [
    {
     "name": "stdout",
     "output_type": "stream",
     "text": [
      "📍 生成地图（按站点颜色标记）：shipment_site_map.html\n",
      "📄 生成 Summary 报告（妥投率不达标）：summary.html\n"
     ]
    }
   ],
   "source": [
    "# ✅保存 & 打开地图\n",
    "output_file = \"shipment_site_map.html\"\n",
    "us_map.save(output_file)\n",
    "webbrowser.open(f\"file://{os.path.abspath(output_file)}\")\n",
    "\n",
    "print(f\"📍 生成地图（按站点颜色标记）：{output_file}\")\n",
    "print(f\"📄 生成 Summary 报告（妥投率不达标）：{summary_file}\")\n"
   ]
  },
  {
   "cell_type": "code",
   "execution_count": null,
   "metadata": {},
   "outputs": [],
   "source": []
  }
 ],
 "metadata": {
  "kernelspec": {
   "display_name": "base",
   "language": "python",
   "name": "python3"
  },
  "language_info": {
   "codemirror_mode": {
    "name": "ipython",
    "version": 3
   },
   "file_extension": ".py",
   "mimetype": "text/x-python",
   "name": "python",
   "nbconvert_exporter": "python",
   "pygments_lexer": "ipython3",
   "version": "3.11.3"
  }
 },
 "nbformat": 4,
 "nbformat_minor": 2
}
