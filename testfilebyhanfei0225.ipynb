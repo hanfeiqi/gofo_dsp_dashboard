{
 "cells": [
  {
   "cell_type": "code",
   "execution_count": 1,
   "metadata": {},
   "outputs": [],
   "source": [
    "import json\n",
    "import os\n",
    "import folium\n",
    "import pandas as pd\n",
    "import webbrowser\n",
    "import matplotlib.pyplot as plt\n",
    "import base64\n",
    "import random\n",
    "import chardet"
   ]
  },
  {
   "cell_type": "code",
   "execution_count": 2,
   "metadata": {},
   "outputs": [
    {
     "name": "stdout",
     "output_type": "stream",
     "text": [
      "✅ 检测到的文件编码：UTF-16\n"
     ]
    }
   ],
   "source": [
    "# ✅ 先检测文件编码\n",
    "with open(\"/Users/qihanfei/Desktop/gofodashboard/TESTLAX2_23.csv\", \"rb\") as f:\n",
    "    result = chardet.detect(f.read(100000))  # 读取部分内容进行检测\n",
    "    detected_encoding = result[\"encoding\"]\n",
    "    print(f\"✅ 检测到的文件编码：{detected_encoding}\")\n",
    "\n",
    "# ✅ 使用检测到的编码读取 CSV\n",
    "shipment_df = pd.read_csv(\"/Users/qihanfei/Desktop/gofodashboard/TESTLAX2_23.csv\", encoding=detected_encoding, sep=\"\\t\")\n"
   ]
  },
  {
   "cell_type": "code",
   "execution_count": 3,
   "metadata": {},
   "outputs": [
    {
     "name": "stdout",
     "output_type": "stream",
     "text": [
      "✅ 检测到的文件编码：UTF-16\n",
      "✅ 修正后 CSV 列名: ['日期', '口岸', '中心', '站点', '对象', '票数', '领件票数', 'Final妥投量', 'Final妥投率', '客退数', '客退率', '丢失被抢数', '丢失被抢率', '被抢数', '库内丢失数', '站点丢失数', '库内待签收数', '站点待签收数', '异常中', '断更中']\n",
      "✅ 处理后数据预览:\n",
      "         日期   口岸   中心       站点 zipcode  票数  领件票数  Final妥投量  Final妥投率  客退数  \\\n",
      "0  25/02/23  LAX  DEN  DEN-CBL   80002  25    25        25  1.000000    0   \n",
      "1  25/02/23  LAX  DEN  DEN-CBL   80033  48    48        47  0.979167    0   \n",
      "2  25/02/23  LAX  DEN  DEN-CBL   80202  31    31        30  0.967742    0   \n",
      "3  25/02/23  LAX  DEN  DEN-CBL   80204  52    52        51  0.980769    0   \n",
      "4  25/02/23  LAX  DEN  DEN-CBL   80211  58    58        57  0.982759    0   \n",
      "\n",
      "   客退率  丢失被抢数  丢失被抢率  被抢数  库内丢失数  站点丢失数  库内待签收数  站点待签收数  异常中  断更中  \n",
      "0    0      0  0.00%    0      0      0       0       0    0    0  \n",
      "1    0      0  0.00%    0      0      0       0       1    1    1  \n",
      "2    0      0  0.00%    0      0      0       0       1    1    1  \n",
      "3    0      0  0.00%    0      0      0       0       1    1    1  \n",
      "4    0      0  0.00%    0      0      0       0       1    1    1  \n"
     ]
    }
   ],
   "source": [
    "# ✅ 1. 自动检测 CSV 编码\n",
    "with open(\"/Users/qihanfei/Desktop/gofodashboard/TESTLAX2_23.csv\", \"rb\") as f:\n",
    "    result = chardet.detect(f.read(100000))  # 读取部分内容进行检测\n",
    "    detected_encoding = result[\"encoding\"]\n",
    "    print(f\"✅ 检测到的文件编码：{detected_encoding}\")\n",
    "\n",
    "# ✅ 2. 读取 CSV，确保 `\\t` 作为分隔符\n",
    "shipment_df = pd.read_csv(\"/Users/qihanfei/Desktop/gofodashboard/TESTLAX2_23.csv\", encoding=detected_encoding, sep=\"\\t\")\n",
    "\n",
    "# ✅ 3. 查看列名，确保 `对象` 变成 `zipcode`\n",
    "print(\"✅ 修正后 CSV 列名:\", shipment_df.columns.tolist())\n",
    "\n",
    "# ✅ 4. 处理 ZIP Code 列名\n",
    "shipment_df.rename(columns={\"对象\": \"zipcode\"}, inplace=True)\n",
    "\n",
    "# ✅ 5. 确保 ZIP Code 处理正确\n",
    "shipment_df[\"zipcode\"] = shipment_df[\"zipcode\"].astype(str).str.zfill(5)\n",
    "\n",
    "# ✅ 6. 处理数值数据\n",
    "shipment_df[\"领件票数\"] = pd.to_numeric(shipment_df[\"领件票数\"], errors=\"coerce\")\n",
    "shipment_df[\"Final妥投量\"] = pd.to_numeric(shipment_df[\"Final妥投量\"], errors=\"coerce\")\n",
    "\n",
    "# ✅ 7. 计算 Final妥投率\n",
    "shipment_df[\"Final妥投率\"] = shipment_df[\"Final妥投量\"] / shipment_df[\"领件票数\"]\n",
    "shipment_df[\"Final妥投率\"].fillna(0, inplace=True)\n",
    "\n",
    "# ✅ 8. 过滤掉 \"合计\" 行\n",
    "shipment_df = shipment_df[shipment_df[\"zipcode\"] != \"合计\"]\n",
    "\n",
    "print(\"✅ 处理后数据预览:\")\n",
    "print(shipment_df.head())\n"
   ]
  },
  {
   "cell_type": "code",
   "execution_count": 4,
   "metadata": {},
   "outputs": [
    {
     "name": "stdout",
     "output_type": "stream",
     "text": [
      "✅ 使用字体: Arial Unicode MS\n"
     ]
    }
   ],
   "source": [
    "import matplotlib.pyplot as plt\n",
    "import matplotlib\n",
    "from matplotlib import font_manager\n",
    "\n",
    "# ✅ 自动查找可用的中文字体\n",
    "def get_best_chinese_font():\n",
    "    fonts = [\"Microsoft YaHei\", \"SimHei\", \"WenQuanYi Zen Hei\", \"Arial Unicode MS\"]\n",
    "    for font in fonts:\n",
    "        if font in [f.name for f in font_manager.fontManager.ttflist]:\n",
    "            print(f\"✅ 使用字体: {font}\")\n",
    "            return font\n",
    "    print(\"⚠️ 未找到可用的中文字体，可能会显示乱码！\")\n",
    "    return \"sans-serif\"  # 兜底方案\n",
    "\n",
    "# ✅ 设置 Matplotlib 中文字体\n",
    "best_font = get_best_chinese_font()\n",
    "matplotlib.rcParams[\"font.family\"] = best_font\n",
    "matplotlib.rcParams[\"axes.unicode_minus\"] = False  # 处理负号问题"
   ]
  },
  {
   "cell_type": "code",
   "execution_count": 5,
   "metadata": {},
   "outputs": [
    {
     "name": "stdout",
     "output_type": "stream",
     "text": [
      "✅ 站点汇总数据：\n",
      "        站点  total_tickets  total_delivered  Final妥投率\n",
      "0  DEN-CBL           1358             1324  0.974963\n",
      "1  DEN-WDL           2054             1792  0.872444\n",
      "2  DEN-XAE           7710             6542  0.848508\n",
      "3  DEN-YON            948              894  0.943038\n",
      "4  LAS-FTN            596              584  0.979866\n",
      "✅ 站点饼图生成完成！\n"
     ]
    }
   ],
   "source": [
    "# ✅ 计算各站点的合计数据\n",
    "site_summary = shipment_df.groupby(\"站点\").agg(\n",
    "    total_tickets=(\"领件票数\", \"sum\"),\n",
    "    total_delivered=(\"Final妥投量\", \"sum\")\n",
    ").reset_index()\n",
    "site_summary[\"Final妥投率\"] = site_summary[\"total_delivered\"] / site_summary[\"total_tickets\"]\n",
    "site_summary[\"Final妥投率\"].fillna(0, inplace=True)  # 避免 NaN\n",
    "\n",
    "\n",
    "# ✅ 确保 `site_summary` 存在\n",
    "print(\"✅ 站点汇总数据：\")\n",
    "print(site_summary.head())\n",
    "\n",
    "# ✅ 生成站点饼图\n",
    "pie_chart_paths = {}\n",
    "\n",
    "for _, row in site_summary.iterrows():\n",
    "    site = row[\"站点\"]\n",
    "    delivered = row[\"total_delivered\"]\n",
    "    not_delivered = row[\"total_tickets\"] - delivered\n",
    "\n",
    "    labels = [\"Final妥投量\", \"未妥投量\"]\n",
    "    sizes = [delivered, not_delivered]\n",
    "    colors = [\"green\", \"red\"]\n",
    "\n",
    "    plt.figure(figsize=(2, 2))\n",
    "    plt.pie(sizes, labels=labels, autopct=\"%1.1f%%\", colors=colors, startangle=140)\n",
    "    plt.axis(\"equal\")\n",
    "\n",
    "    # 保存为图片\n",
    "    img_path = f\"pie_chart_{site}.png\"\n",
    "    plt.savefig(img_path, bbox_inches=\"tight\"\n",
    "    , dpi=100)\n",
    "    plt.close()\n",
    "\n",
    "    # 转换为 base64 编码的 HTML 图片\n",
    "    with open(img_path, \"rb\") as img_file:\n",
    "        base64_str = base64.b64encode(img_file.read()).decode(\"utf-8\")\n",
    "        pie_chart_paths[site] = f'<img src=\"data:image/png;base64,{base64_str}\" width=\"150px\"/>'\n",
    "\n",
    "print(\"✅ 站点饼图生成完成！\")\n",
    "\n"
   ]
  },
  {
   "cell_type": "code",
   "execution_count": 6,
   "metadata": {},
   "outputs": [
    {
     "name": "stdout",
     "output_type": "stream",
     "text": [
      "✅ 运单涉及 1181 个唯一 ZIP Code\n",
      "✅ ZIP Code 边界文件加载成功！\n"
     ]
    }
   ],
   "source": [
    "# ✅ 6. 提取运单涉及的 ZIP Code\n",
    "shipment_zipcodes = shipment_df[\"zipcode\"].unique().tolist()\n",
    "print(f\"✅ 运单涉及 {len(shipment_zipcodes)} 个唯一 ZIP Code\")\n",
    "\n",
    "# ✅ 7. 加载 ZIP Code GeoJSON 文件\n",
    "geojson_path = \"/Users/qihanfei/Desktop/gofodashboard/merged_zip_codes.geojson\"  # 修改为你的文件路径\n",
    "\n",
    "try:\n",
    "    with open(geojson_path, \"r\", encoding=\"utf-8\") as f:\n",
    "        zipcode_geojson = json.load(f)\n",
    "    print(\"✅ ZIP Code 边界文件加载成功！\")\n",
    "except FileNotFoundError:\n",
    "    print(f\"❌ 文件 {geojson_path} 不存在！\")\n",
    "    exit()\n",
    "\n"
   ]
  },
  {
   "cell_type": "code",
   "execution_count": 7,
   "metadata": {},
   "outputs": [
    {
     "name": "stdout",
     "output_type": "stream",
     "text": [
      "✅ 过滤后，地图上仅显示 1167 个 ZIP Code\n",
      "📍 生成地图（按站点颜色标记）：shipment_site_map.html\n"
     ]
    }
   ],
   "source": [
    "import json\n",
    "import folium\n",
    "import random\n",
    "\n",
    "# ✅ 生成站点颜色\n",
    "site_colors = {site: \"#{:06x}\".format(random.randint(0, 0xFFFFFF)) for site in site_summary[\"站点\"].unique()}\n",
    "\n",
    "# ✅ 仅保留运单中涉及的 ZIP Code，并添加统计数据\n",
    "filtered_features = []\n",
    "\n",
    "for feature in zipcode_geojson[\"features\"]:\n",
    "    zip_code = str(feature[\"properties\"].get(\"ZCTA5CE10\", \"\")).zfill(5)\n",
    "\n",
    "    if zip_code in shipment_zipcodes:\n",
    "        site_info = shipment_df[shipment_df[\"zipcode\"] == zip_code].iloc[0]  # 获取站点信息\n",
    "        site_name = str(site_info[\"站点\"])  # 确保是 `str`\n",
    "        site_data = site_summary[site_summary[\"站点\"] == site_name].iloc[0]\n",
    "\n",
    "        # 确保 `Final妥投率` 是 `float`\n",
    "        site_data[\"Final妥投率\"] = float(site_data[\"Final妥投率\"])\n",
    "\n",
    "        # 颜色：如果 Final妥投率 < 95%，则红色，否则站点颜色\n",
    "        color = \"red\" if site_data[\"Final妥投率\"] < 0.95 else site_colors.get(site_name, \"blue\")\n",
    "\n",
    "        # 更新 GeoJSON 信息（确保所有数据类型正确）\n",
    "        feature[\"properties\"].update({\n",
    "            \"站点\": site_name,\n",
    "            \"总领件票数\": int(site_data[\"total_tickets\"]),  # 确保 `int`\n",
    "            \"总妥投量\": int(site_data[\"total_delivered\"]),  # 确保 `int`\n",
    "            \"合计Final妥投率\": f\"{site_data['Final妥投率']:.2%}\",  # 确保 `float`\n",
    "            \"PieChart\": pie_chart_paths.get(site_name, \"\")\n",
    "        })\n",
    "        filtered_features.append(feature)\n",
    "\n",
    "filtered_geojson = {\n",
    "    \"type\": \"FeatureCollection\",\n",
    "    \"features\": filtered_features\n",
    "}\n",
    "\n",
    "print(f\"✅ 过滤后，地图上仅显示 {len(filtered_features)} 个 ZIP Code\")\n",
    "\n",
    "# ✅ 计算地图中心（默认用美国中心点）\n",
    "us_map = folium.Map(location=[39.8283, -98.5795], zoom_start=5, tiles=\"cartodbpositron\")\n",
    "\n",
    "# ✅ 颜色映射\n",
    "def zip_code_style(feature):\n",
    "    \"\"\"根据站点 Final妥投率 设定颜色\"\"\"\n",
    "    final_rate = float(feature[\"properties\"].get(\"合计Final妥投率\", \"0%\").strip(\"%\")) / 100\n",
    "    color = \"red\" if final_rate < 0.95 else site_colors.get(feature[\"properties\"][\"站点\"], \"blue\")\n",
    "    return {\"fillColor\": color, \"color\": color, \"weight\": 1.5, \"fillOpacity\": 0.4}\n",
    "\n",
    "# ✅ 添加 ZIP Code 区域\n",
    "folium.GeoJson(\n",
    "    filtered_geojson,\n",
    "    name=\"Filtered ZIP Code Boundaries\",\n",
    "    style_function=zip_code_style,\n",
    "    tooltip=folium.GeoJsonTooltip(\n",
    "        fields=[\"ZCTA5CE10\", \"站点\", \"总领件票数\", \"总妥投量\", \"合计Final妥投率\", \"PieChart\"],\n",
    "        aliases=[\"ZIP Code:\", \"站点:\", \"总领件票数:\", \"总妥投量:\", \"合计Final妥投率:\", \"妥投率饼图:\"],\n",
    "        localize=True\n",
    "    )\n",
    ").add_to(us_map)\n",
    "\n",
    "# ✅ 保存地图\n",
    "output_file = \"shipment_site_map.html\"\n",
    "us_map.save(output_file)\n",
    "\n",
    "print(f\"📍 生成地图（按站点颜色标记）：{output_file}\")\n"
   ]
  },
  {
   "cell_type": "code",
   "execution_count": null,
   "metadata": {},
   "outputs": [
    {
     "data": {
      "text/plain": [
       "<branca.element.Element at 0x14ef114d0>"
      ]
     },
     "execution_count": 8,
     "metadata": {},
     "output_type": "execute_result"
    }
   ],
   "source": [
    "# ✅左上角按钮：查看低妥投率站点\n",
    "summary_html = site_summary[site_summary[\"Final妥投率\"] < 0.95].to_html(classes=\"table table-striped\", border=0)\n",
    "summary_file = \"summary.html\"\n",
    "with open(summary_file, \"w\", encoding=\"utf-8\") as f:\n",
    "    f.write(f\"<h2>📢 妥投率 < 95% 的站点</h2>{summary_html}\")\n",
    "\n",
    "button_html = f\"\"\"\n",
    "<div style=\"\n",
    "    position: fixed;\n",
    "    top: 10px; left: 10px;\n",
    "    z-index: 1000;\n",
    "    background-color: white;\n",
    "    padding: 10px;\n",
    "    border-radius: 5px;\n",
    "    box-shadow: 2px 2px 5px rgba(0,0,0,0.3);\n",
    "\">\n",
    "    <a href=\"{summary_file}\" target=\"_blank\" style=\"font-size:14px; color:red; text-decoration:none;\">\n",
    "        📊 查看妥投率不达标站点\n",
    "    </a>\n",
    "</div>\n",
    "\"\"\"\n",
    "\n",
    "us_map.get_root().html.add_child(folium.Element(button_html))\n",
    "\n"
   ]
  },
  {
   "cell_type": "code",
   "execution_count": null,
   "metadata": {},
   "outputs": [
    {
     "name": "stdout",
     "output_type": "stream",
     "text": [
      "📍 生成地图（按站点颜色标记）：shipment_site_map.html\n",
      "📄 生成 Summary 报告（妥投率不达标）：summary.html\n"
     ]
    }
   ],
   "source": [
    "# ✅保存 & 打开地图\n",
    "output_file = \"shipment_site_map.html\"\n",
    "us_map.save(output_file)\n",
    "webbrowser.open(f\"file://{os.path.abspath(output_file)}\")\n",
    "\n",
    "print(f\"📍 生成地图（按站点颜色标记）：{output_file}\")\n",
    "print(f\"📄 生成 Summary 报告（妥投率不达标）：{summary_file}\")\n"
   ]
  },
  {
   "cell_type": "code",
   "execution_count": null,
   "metadata": {},
   "outputs": [],
   "source": []
  }
 ],
 "metadata": {
  "kernelspec": {
   "display_name": "base",
   "language": "python",
   "name": "python3"
  },
  "language_info": {
   "codemirror_mode": {
    "name": "ipython",
    "version": 3
   },
   "file_extension": ".py",
   "mimetype": "text/x-python",
   "name": "python",
   "nbconvert_exporter": "python",
   "pygments_lexer": "ipython3",
   "version": "3.11.3"
  }
 },
 "nbformat": 4,
 "nbformat_minor": 2
}
